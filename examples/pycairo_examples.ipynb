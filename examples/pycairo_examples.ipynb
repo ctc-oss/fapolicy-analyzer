{
 "cells": [
  {
   "cell_type": "markdown",
   "metadata": {},
   "source": [
    "# Cario example snippets with outputs\n",
    "Based on examples from lazka, stuaxo, fomightez and kolibril13"
   ]
  },
  {
   "cell_type": "code",
   "execution_count": 1,
   "metadata": {},
   "outputs": [],
   "source": [
    "import cairo\n",
    "from IPython.display import Image, display\n",
    "from math import pi\n",
    "from io import BytesIO\n",
    "\n",
    "def disp(draw_func):\n",
    "    surface = cairo.ImageSurface(cairo.FORMAT_ARGB32, 200, 200)\n",
    "    ctx = cairo.Context(surface)\n",
    "    draw_func(ctx, 200, 200)\n",
    "    with BytesIO() as fileobj:\n",
    "        surface.write_to_png(fileobj)\n",
    "        display(Image(fileobj.getvalue(), width=200))"
   ]
  },
  {
   "cell_type": "code",
   "execution_count": 2,
   "metadata": {},
   "outputs": [
    {
     "data": {
      "image/png": "[encoded data removed]",
      "text/plain": [
       "<IPython.core.display.Image object>"
      ]
     },
     "metadata": {
      "image/png": {
       "width": 200
      }
     },
     "output_type": "display_data"
    }
   ],
   "source": [
    "@disp\n",
    "def draw(cr, width, height):\n",
    "    cr.scale(width, height)\n",
    "    cr.set_line_width(0.04)\n",
    "\n",
    "    cr.arc(0.5, 0.5, 0.3, 0, 2 * pi)\n",
    "    cr.clip()\n",
    "\n",
    "    cr.rectangle(0, 0, 1, 1)\n",
    "    cr.fill()\n",
    "    cr.set_source_rgb(0, 1, 0)\n",
    "    cr.move_to(0, 0)\n",
    "    cr.line_to(1, 1)\n",
    "    cr.move_to(1, 0)\n",
    "    cr.line_to(0, 1)\n",
    "    cr.stroke()"
   ]
  },
  {
   "cell_type": "code",
   "execution_count": 3,
   "metadata": {},
   "outputs": [
    {
     "data": {
      "image/png": "[encoded data removed]",
      "text/plain": [
       "<IPython.core.display.Image object>"
      ]
     },
     "metadata": {
      "image/png": {
       "width": 200
      }
     },
     "output_type": "display_data"
    }
   ],
   "source": [
    "@disp\n",
    "def draw(cr, width, height):\n",
    "    cr.scale(width, height) # eg1\n",
    "    cr.stroke()\n",
    "    cr.set_line_cap(cairo.LINE_CAP_ROUND)\n",
    "    cr.set_line_width(0.12)\n",
    "    cr.move_to(0.5, 0.5)\n",
    "    cr.line_to(0.5, 0.5)\n",
    "    \n",
    "    cr.stroke() #eg1\n",
    "    xc=.4\n",
    "    yc=.4\n",
    "    cr.arc(xc, yc, 0.05, 0, 2 * pi)\n",
    "    cr.fill()"
   ]
  },
  {
   "cell_type": "code",
   "execution_count": 4,
   "metadata": {},
   "outputs": [
    {
     "data": {
      "image/png": "[encoded data removed]",
      "text/plain": [
       "<IPython.core.display.Image object>"
      ]
     },
     "metadata": {
      "image/png": {
       "width": 200
      }
     },
     "output_type": "display_data"
    }
   ],
   "source": [
    "@disp\n",
    "def draw(cr, width, height):\n",
    "    cr.scale(width, height)\n",
    "    cr.set_line_width(0.04)\n",
    "\n",
    "    # a custom shape, that could be wrapped in a function\n",
    "    x0 = 0.1  # parameters like cairo_rectangle\n",
    "    y0 = 0.1\n",
    "    rect_width = 0.8\n",
    "    rect_height = 0.8\n",
    "    radius = 0.4  # and an approximate curvature radius\n",
    "\n",
    "    x1 = x0 + rect_width\n",
    "    y1 = y0 + rect_height\n",
    "\n",
    "    if rect_width / 2 < radius:\n",
    "        if rect_height / 2 < radius:\n",
    "            cr.move_to(x0, (y0 + y1) / 2)\n",
    "            cr.curve_to(x0, y0, x0, y0, (x0 + x1) / 2, y0)\n",
    "            cr.curve_to(x1, y0, x1, y0, x1, (y0 + y1) / 2)\n",
    "            cr.curve_to(x1, y1, x1, y1, (x1 + x0) / 2, y1)\n",
    "            cr.curve_to(x0, y1, x0, y1, x0, (y0 + y1) / 2)\n",
    "        else:\n",
    "            cr.move_to(x0, y0 + radius)\n",
    "            cr.curve_to(x0, y0, x0, y0, (x0 + x1) / 2, y0)\n",
    "            cr.curve_to(x1, y0, x1, y0, x1, y0 + radius)\n",
    "            cr.line_to(x1, y1 - radius)\n",
    "            cr.curve_to(x1, y1, x1, y1, (x1 + x0) / 2, y1)\n",
    "            cr.curve_to(x0, y1, x0, y1, x0, y1 - radius)\n",
    "    else:\n",
    "        if rect_height / 2 < radius:\n",
    "            cr.move_to(x0, (y0 + y1) / 2)\n",
    "            cr.curve_to(x0, y0, x0, y0, x0 + radius, y0)\n",
    "            cr.line_to(x1 - radius, y0)\n",
    "            cr.curve_to(x1, y0, x1, y0, x1, (y0 + y1) / 2)\n",
    "            cr.curve_to(x1, y1, x1, y1, x1 - radius, y1)\n",
    "            cr.line_to(x0 + radius, y1)\n",
    "            cr.curve_to(x0, y1, x0, y1, x0, (y0 + y1) / 2)\n",
    "        else:\n",
    "            cr.move_to(x0, y0 + radius)\n",
    "            cr.curve_to(x0, y0, x0, y0, x0 + radius, y0)\n",
    "            cr.line_to(x1 - radius, y0)\n",
    "            cr.curve_to(x1, y0, x1, y0, x1, y0 + radius)\n",
    "            cr.line_to(x1, y1 - radius)\n",
    "            cr.curve_to(x1, y1, x1, y1, x1 - radius, y1)\n",
    "            cr.line_to(x0 + radius, y1)\n",
    "            cr.curve_to(x0, y1, x0, y1, x0, y1 - radius)\n",
    "\n",
    "    cr.close_path()\n",
    "\n",
    "    cr.set_source_rgb(0.5, 0.5, 1)\n",
    "    cr.fill_preserve()\n",
    "    cr.set_source_rgba(0.5, 0, 0, 0.5)\n",
    "    cr.stroke()\n"
   ]
  },
  {
   "cell_type": "code",
   "execution_count": 5,
   "metadata": {},
   "outputs": [
    {
     "data": {
      "image/png": "[encoded data removed]",
      "text/plain": [
       "<IPython.core.display.Image object>"
      ]
     },
     "metadata": {
      "image/png": {
       "width": 200
      }
     },
     "output_type": "display_data"
    }
   ],
   "source": [
    "@disp\n",
    "def draw(cr, width, height):\n",
    "    cr.scale(width, height)\n",
    "    cr.set_line_width(0.04)\n",
    "\n",
    "    x, y = 0.1, 0.5\n",
    "    x1, y1 = 0.4, 0.9\n",
    "    x2, y2 = 0.6, 0.1\n",
    "    x3, y3 = 0.9, 0.5\n",
    "\n",
    "    cr.move_to(x, y)\n",
    "    cr.curve_to(x1, y1, x2, y2, x3, y3)\n",
    "\n",
    "    cr.stroke()\n",
    "\n",
    "    cr.set_source_rgba(1, 0.2, 0.2, 0.6)\n",
    "    cr.set_line_width(0.03)\n",
    "    cr.move_to(x, y)\n",
    "    cr.line_to(x1, y1)\n",
    "    cr.move_to(x2, y2)\n",
    "    cr.line_to(x3, y3)\n",
    "    cr.stroke()"
   ]
  },
  {
   "cell_type": "code",
   "execution_count": 6,
   "metadata": {},
   "outputs": [
    {
     "data": {
      "image/png": "[encoded data removed]",
      "text/plain": [
       "<IPython.core.display.Image object>"
      ]
     },
     "metadata": {
      "image/png": {
       "width": 200
      }
     },
     "output_type": "display_data"
    }
   ],
   "source": [
    "def path_ellipse(cr, x, y, width, height, angle=0):\n",
    "    \"\"\"\n",
    "    x      - center x\n",
    "    y      - center y\n",
    "    width  - width of ellipse  (in x direction when angle=0)\n",
    "    height - height of ellipse (in y direction when angle=0)\n",
    "    angle  - angle in radians to rotate, clockwise\n",
    "    \"\"\"\n",
    "    cr.save()\n",
    "    cr.translate(x, y)\n",
    "    cr.rotate(angle)\n",
    "    cr.scale(width / 2.0, height / 2.0)\n",
    "    cr.arc(0.0, 0.0, 1.0, 0.0, 2.0 * pi)\n",
    "    cr.restore()\n",
    "\n",
    "@disp\n",
    "def draw(cr, width, height):\n",
    "    cr.scale(width, height)\n",
    "    cr.set_line_width(0.04)\n",
    "\n",
    "    path_ellipse(cr, 0.5, 0.5, 1.0, 0.3, pi / 4.0)\n",
    "\n",
    "    # fill\n",
    "    cr.set_source_rgba(1, 0, 0, 1)\n",
    "    cr.fill_preserve()\n",
    "\n",
    "    # stroke\n",
    "    # reset identity matrix so line_width is a constant\n",
    "    # width in device-space, not user-space\n",
    "    cr.save()\n",
    "    cr.identity_matrix()\n",
    "    cr.set_source_rgba(0, 0, 0, 1)\n",
    "    cr.set_line_width(3)\n",
    "    cr.stroke()\n",
    "    cr.restore()"
   ]
  },
  {
   "cell_type": "code",
   "execution_count": 7,
   "metadata": {},
   "outputs": [
    {
     "data": {
      "image/png": "[encoded data removed]",
      "text/plain": [
       "<IPython.core.display.Image object>"
      ]
     },
     "metadata": {
      "image/png": {
       "width": 200
      }
     },
     "output_type": "display_data"
    }
   ],
   "source": [
    "@disp\n",
    "def draw(cr, width, height):\n",
    "    cr.scale(width, height)\n",
    "    cr.set_line_width(0.04)\n",
    "\n",
    "    cr.move_to(0.5, 0.1)\n",
    "    cr.line_to(0.9, 0.9)\n",
    "    cr.rel_line_to(-0.4, 0.0)\n",
    "    cr.curve_to(0.2, 0.9, 0.2, 0.5, 0.5, 0.5)\n",
    "    cr.close_path()\n",
    "\n",
    "    cr.set_source_rgb(0, 0, 1)\n",
    "    cr.fill_preserve()\n",
    "    cr.set_source_rgb(0, 0, 0)\n",
    "    cr.stroke()"
   ]
  },
  {
   "cell_type": "code",
   "execution_count": 8,
   "metadata": {},
   "outputs": [
    {
     "data": {
      "image/png": "[encoded data removed]",
      "text/plain": [
       "<IPython.core.display.Image object>"
      ]
     },
     "metadata": {
      "image/png": {
       "width": 200
      }
     },
     "output_type": "display_data"
    }
   ],
   "source": [
    "@disp\n",
    "def draw(cr, width, height):\n",
    "    cr.scale(width, height)\n",
    "    cr.set_line_width(0.04)\n",
    "\n",
    "    cr.move_to(0.5, 0.1)\n",
    "    cr.line_to(0.9, 0.9)\n",
    "    cr.rel_line_to(-0.4, 0.0)\n",
    "    cr.curve_to(0.2, 0.9, 0.2, 0.5, 0.5, 0.5)\n",
    "    cr.close_path()\n",
    "\n",
    "    cr.move_to(0.25, 0.1)\n",
    "    cr.rel_line_to(0.2, 0.2)\n",
    "    cr.rel_line_to(-0.2, 0.2)\n",
    "    cr.rel_line_to(-0.2, -0.2)\n",
    "    cr.close_path()\n",
    "\n",
    "    cr.set_source_rgb(0, 0, 1)\n",
    "    cr.fill_preserve()\n",
    "    cr.set_source_rgb(0, 0, 0)\n",
    "    cr.stroke()"
   ]
  },
  {
   "cell_type": "code",
   "execution_count": 9,
   "metadata": {},
   "outputs": [
    {
     "data": {
      "image/png": "[encoded data removed]",
      "text/plain": [
       "<IPython.core.display.Image object>"
      ]
     },
     "metadata": {
      "image/png": {
       "width": 200
      }
     },
     "output_type": "display_data"
    }
   ],
   "source": [
    "@disp\n",
    "def draw(cr, width, height):\n",
    "    cr.scale(width, height)\n",
    "    cr.set_line_width(0.04)\n",
    "\n",
    "    pat = cairo.LinearGradient(0.0, 0.0, 0.0, 1.0)\n",
    "    pat.add_color_stop_rgba(1, 0, 0, 0, 1)\n",
    "    pat.add_color_stop_rgba(0, 1, 1, 1, 1)\n",
    "    cr.rectangle(0, 0, 1, 1)\n",
    "    cr.set_source(pat)\n",
    "    cr.fill()\n",
    "\n",
    "    pat = cairo.RadialGradient(0.45, 0.4, 0.1,\n",
    "                               0.4, 0.4, 0.5)\n",
    "    pat.add_color_stop_rgba(0, 1, 1, 1, 1)\n",
    "    pat.add_color_stop_rgba(1, 0, 0, 0, 1)\n",
    "    cr.set_source(pat)\n",
    "    cr.arc(0.5, 0.5, 0.3, 0, 2 * pi)\n",
    "    cr.fill()\n"
   ]
  },
  {
   "cell_type": "code",
   "execution_count": 10,
   "metadata": {},
   "outputs": [
    {
     "data": {
      "image/png": "[encoded data removed]",
      "text/plain": [
       "<IPython.core.display.Image object>"
      ]
     },
     "metadata": {
      "image/png": {
       "width": 200
      }
     },
     "output_type": "display_data"
    }
   ],
   "source": [
    "@disp\n",
    "def draw(cr, width, height):\n",
    "    cr.scale(width, height)\n",
    "    cr.set_line_width(0.04)\n",
    "\n",
    "    pattern = cairo.LinearGradient(0, 0, 1, 1)\n",
    "    pattern.add_color_stop_rgb(0, 0, 0.3, 0.8)\n",
    "    pattern.add_color_stop_rgb(1, 0, 0.8, 0.3)\n",
    "\n",
    "    mask = cairo.RadialGradient(0.5, 0.5, 0.25, 0.5, 0.5, 0.5)\n",
    "    mask.add_color_stop_rgba(0, 0, 0, 0, 1)\n",
    "    mask.add_color_stop_rgba(0.5, 0, 0, 0, 0)\n",
    "\n",
    "    cr.set_source(pattern)\n",
    "    cr.mask(mask)"
   ]
  },
  {
   "cell_type": "code",
   "execution_count": 11,
   "metadata": {},
   "outputs": [
    {
     "data": {
      "image/png": "[encoded data removed]",
      "text/plain": [
       "<IPython.core.display.Image object>"
      ]
     },
     "metadata": {
      "image/png": {
       "width": 200
      }
     },
     "output_type": "display_data"
    }
   ],
   "source": [
    "@disp\n",
    "def draw(cr, width, height):\n",
    "    cr.scale(width, height)\n",
    "    cr.set_line_width(0.04)\n",
    "\n",
    "    cr.rectangle(0.1, 0.1, 0.6, 0.6)\n",
    "    cr.set_line_width(0.03)\n",
    "    cr.set_source_rgb(0.8, 0.8, 0.8)\n",
    "    cr.fill()\n",
    "\n",
    "    cr.push_group()\n",
    "    cr.rectangle(0.3, 0.3, 0.6, 0.6)\n",
    "    cr.set_source(cairo.SolidPattern(1, 0, 0))\n",
    "    cr.fill_preserve()\n",
    "    cr.set_source(cairo.SolidPattern(0, 0, 0))\n",
    "    cr.stroke()\n",
    "    cr.pop_group_to_source()\n",
    "    cr.paint_with_alpha(0.5)"
   ]
  },
  {
   "cell_type": "code",
   "execution_count": 12,
   "metadata": {},
   "outputs": [
    {
     "data": {
      "image/png": "[encoded data removed]",
      "text/plain": [
       "<IPython.core.display.Image object>"
      ]
     },
     "metadata": {
      "image/png": {
       "width": 200
      }
     },
     "output_type": "display_data"
    }
   ],
   "source": [
    "@disp\n",
    "def draw(ctx, width, height):\n",
    "    LINES = 32\n",
    "    MAX_THETA = .80 * pi * 2\n",
    "    THETA_INC = 2.0 * MAX_THETA / (LINES - 1)\n",
    "\n",
    "    ctx.set_source_rgb(0, 0, 0)\n",
    "    ctx.set_line_width(2.0)\n",
    "\n",
    "    ctx.save()\n",
    "\n",
    "    ctx.translate(width / 2, height / 2)\n",
    "    ctx.rotate(MAX_THETA)\n",
    "\n",
    "    for i in range(LINES):\n",
    "        ctx.move_to(-2 * width, 0)\n",
    "        ctx.line_to(2 * width, 0)\n",
    "        ctx.stroke()\n",
    "\n",
    "        ctx.rotate(- THETA_INC)\n",
    "\n",
    "    ctx.restore()\n",
    "\n",
    "    ctx.set_line_width(6)\n",
    "    ctx.set_source_rgb(1, 0, 0)\n",
    "\n",
    "    ctx.move_to(width / 4.0, 0)\n",
    "    ctx.rel_line_to(0, height)\n",
    "    ctx.stroke()\n",
    "\n",
    "    ctx.move_to(3 * width / 4.0, 0)\n",
    "    ctx.rel_line_to(0, height)\n",
    "    ctx.stroke()"
   ]
  },
  {
   "cell_type": "code",
   "execution_count": 13,
   "metadata": {},
   "outputs": [
    {
     "data": {
      "image/png": "[encoded data removed]",
      "text/plain": [
       "<IPython.core.display.Image object>"
      ]
     },
     "metadata": {
      "image/png": {
       "width": 200
      }
     },
     "output_type": "display_data"
    }
   ],
   "source": [
    "@disp\n",
    "def draw(cr, width, height):\n",
    "    cr.scale(width, height)\n",
    "    cr.set_line_width(0.04)\n",
    "\n",
    "    cr.move_to(0.5, 0.1)\n",
    "    cr.line_to(0.9, 0.9)\n",
    "    cr.rel_line_to(-0.4, 0.0)\n",
    "    cr.curve_to(0.2, 0.9, 0.2, 0.5, 0.5, 0.5)\n",
    "\n",
    "    cr.stroke()"
   ]
  },
  {
   "cell_type": "code",
   "execution_count": 14,
   "metadata": {},
   "outputs": [
    {
     "data": {
      "image/png": "[encoded data removed]",
      "text/plain": [
       "<IPython.core.display.Image object>"
      ]
     },
     "metadata": {
      "image/png": {
       "width": 200
      }
     },
     "output_type": "display_data"
    }
   ],
   "source": [
    "@disp\n",
    "def draw(cr, width, height):\n",
    "    cr.scale(width, height)\n",
    "    cr.set_line_width(0.04)\n",
    "\n",
    "    cr.set_line_width(0.12)\n",
    "    cr.set_line_cap(cairo.LINE_CAP_BUTT)  # default\n",
    "    cr.move_to(0.25, 0.2)\n",
    "    cr.line_to(0.25, 0.8)\n",
    "    cr.stroke()\n",
    "    cr.set_line_cap(cairo.LINE_CAP_ROUND)\n",
    "    cr.move_to(0.5, 0.2)\n",
    "    cr.line_to(0.5, 0.8)\n",
    "    cr.stroke()\n",
    "    cr.set_line_cap(cairo.LINE_CAP_SQUARE)\n",
    "    cr.move_to(0.75, 0.2)\n",
    "    cr.line_to(0.75, 0.8)\n",
    "    cr.stroke()\n",
    "\n",
    "    # draw helping lines\n",
    "    cr.set_source_rgb(1, 0.2, 0.2)\n",
    "    cr.set_line_width(0.01)\n",
    "    cr.move_to(0.25, 0.2)\n",
    "    cr.line_to(0.25, 0.8)\n",
    "    cr.move_to(0.5, 0.2)\n",
    "    cr.line_to(0.5, 0.8)\n",
    "    cr.move_to(0.75, 0.2)\n",
    "    cr.line_to(0.75, 0.8)\n",
    "    cr.stroke()"
   ]
  },
  {
   "cell_type": "code",
   "execution_count": 15,
   "metadata": {},
   "outputs": [
    {
     "data": {
      "image/png": "[encoded data removed]",
      "text/plain": [
       "<IPython.core.display.Image object>"
      ]
     },
     "metadata": {
      "image/png": {
       "width": 200
      }
     },
     "output_type": "display_data"
    }
   ],
   "source": [
    "@disp\n",
    "def draw(cr, width, height):\n",
    "    cr.scale(width, height)\n",
    "    cr.set_line_width(0.04)\n",
    "\n",
    "    cr.set_line_width(0.16)\n",
    "    cr.move_to(0.3, 0.33)\n",
    "    cr.rel_line_to(0.2, -0.2)\n",
    "    cr.rel_line_to(0.2, 0.2)\n",
    "    cr.set_line_join(cairo.LINE_JOIN_MITER)  # default\n",
    "    cr.stroke()\n",
    "\n",
    "    cr.move_to(0.3, 0.63)\n",
    "    cr.rel_line_to(0.2, -0.2)\n",
    "    cr.rel_line_to(0.2, 0.2)\n",
    "    cr.set_line_join(cairo.LINE_JOIN_BEVEL)\n",
    "    cr.stroke()\n",
    "\n",
    "    cr.move_to(0.3, 0.93)\n",
    "    cr.rel_line_to(0.2, -0.2)\n",
    "    cr.rel_line_to(0.2, 0.2)\n",
    "    cr.set_line_join(cairo.LINE_JOIN_ROUND)\n",
    "    cr.stroke()"
   ]
  },
  {
   "cell_type": "code",
   "execution_count": 16,
   "metadata": {},
   "outputs": [
    {
     "data": {
      "image/png": "[encoded data removed]",
      "text/plain": [
       "<IPython.core.display.Image object>"
      ]
     },
     "metadata": {
      "image/png": {
       "width": 200
      }
     },
     "output_type": "display_data"
    }
   ],
   "source": [
    "@disp\n",
    "def draw(cr, width, height):\n",
    "    cr.scale(width, height)\n",
    "    cr.set_line_width(0.04)\n",
    "\n",
    "    cr.select_font_face(\"Sans\", cairo.FONT_SLANT_NORMAL,\n",
    "                        cairo.FONT_WEIGHT_NORMAL)\n",
    "    # draw 0.08 glyphs in 0.10 squares, at(0.01, 0.02) from left corner\n",
    "    cr.set_font_size(0.08)\n",
    "\n",
    "    glyphs = []\n",
    "    index = 0\n",
    "    for y in range(10):\n",
    "        for x in range(10):\n",
    "            glyphs.append((index, x / 10.0 + 0.01, y / 10.0 + 0.08))\n",
    "            index += 1\n",
    "\n",
    "    cr.show_glyphs(glyphs)"
   ]
  },
  {
   "cell_type": "code",
   "execution_count": 17,
   "metadata": {},
   "outputs": [
    {
     "data": {
      "image/png": "[encoded data removed]",
      "text/plain": [
       "<IPython.core.display.Image object>"
      ]
     },
     "metadata": {
      "image/png": {
       "width": 200
      }
     },
     "output_type": "display_data"
    }
   ],
   "source": [
    "@disp\n",
    "def draw(cr, width, height):\n",
    "    cr.scale(width, height)\n",
    "    cr.set_line_width(0.04)\n",
    "\n",
    "    cr.select_font_face(\"Sans\", cairo.FONT_SLANT_NORMAL,\n",
    "                        cairo.FONT_WEIGHT_NORMAL)\n",
    "    # draw 0.16 glyphs in 0.20 squares, at (0.02, 0.04) from left corner\n",
    "    cr.set_font_size(0.16)\n",
    "\n",
    "    glyphs = []\n",
    "    index = 20\n",
    "    for y in range(5):\n",
    "        for x in range(5):\n",
    "            glyphs.append((index, x / 5.0 + 0.02, y / 5.0 + 0.16))\n",
    "            index += 1\n",
    "\n",
    "    cr.glyph_path(glyphs)\n",
    "    cr.set_source_rgb(0.5, 0.5, 1.0)\n",
    "    cr.fill_preserve()\n",
    "    cr.set_source_rgb(0, 0, 0)\n",
    "    cr.set_line_width(0.005)\n",
    "    cr.stroke()"
   ]
  },
  {
   "cell_type": "code",
   "execution_count": 18,
   "metadata": {},
   "outputs": [
    {
     "data": {
      "image/png": "[encoded data removed]",
      "text/plain": [
       "<IPython.core.display.Image object>"
      ]
     },
     "metadata": {
      "image/png": {
       "width": 200
      }
     },
     "output_type": "display_data"
    }
   ],
   "source": [
    "@disp\n",
    "def draw(ctx, width, height):\n",
    "    wd = .02 * width\n",
    "    hd = .02 * height\n",
    "\n",
    "    width -= 2\n",
    "    height -= 2\n",
    "\n",
    "    ctx.move_to(width + 1, 1 - hd)\n",
    "    for i in range(20):\n",
    "        ctx.rel_line_to(0, height - hd * (2 * i - 1))\n",
    "        ctx.rel_line_to(-(width - wd * (2 * i)), 0)\n",
    "        ctx.rel_line_to(0, -(height - hd * (2 * i)))\n",
    "        ctx.rel_line_to(width - wd * (2 * i + 1), 0)\n",
    "\n",
    "    ctx.set_source_rgb(0, 0, 1)\n",
    "    ctx.stroke()"
   ]
  },
  {
   "cell_type": "code",
   "execution_count": 19,
   "metadata": {},
   "outputs": [
    {
     "data": {
      "image/png": "[encoded data removed]",
      "text/plain": [
       "<IPython.core.display.Image object>"
      ]
     },
     "metadata": {
      "image/png": {
       "width": 200
      }
     },
     "output_type": "display_data"
    }
   ],
   "source": [
    "@disp\n",
    "def draw(cr, width, height):\n",
    "    cr.scale(width, height)\n",
    "    cr.set_line_width(0.04)\n",
    "\n",
    "    cr.select_font_face(\"Sans\", cairo.FONT_SLANT_NORMAL,\n",
    "                        cairo.FONT_WEIGHT_BOLD)\n",
    "    cr.set_font_size(0.35)\n",
    "\n",
    "    cr.move_to(0.04, 0.53)\n",
    "    cr.show_text(\"Hello\")\n",
    "\n",
    "    cr.move_to(0.27, 0.65)\n",
    "    cr.text_path(\"void\")\n",
    "    cr.set_source_rgb(0.5, 0.5, 1)\n",
    "    cr.fill_preserve()\n",
    "    cr.set_source_rgb(0, 0, 0)\n",
    "    cr.set_line_width(0.01)\n",
    "    cr.stroke()\n",
    "\n",
    "    # draw helping lines\n",
    "    cr.set_source_rgba(1, 0.2, 0.2, 0.6)\n",
    "    cr.arc(0.04, 0.53, 0.02, 0, 2 * pi)\n",
    "    cr.arc(0.27, 0.65, 0.02, 0, 2 * pi)\n",
    "    cr.fill()"
   ]
  },
  {
   "cell_type": "code",
   "execution_count": 20,
   "metadata": {},
   "outputs": [
    {
     "data": {
      "image/png": "[encoded data removed]",
      "text/plain": [
       "<IPython.core.display.Image object>"
      ]
     },
     "metadata": {
      "image/png": {
       "width": 200
      }
     },
     "output_type": "display_data"
    }
   ],
   "source": [
    "@disp\n",
    "def draw(cr, width, height):\n",
    "    cr.scale(width, height)\n",
    "    cr.set_line_width(0.04)\n",
    "\n",
    "    utf8 = \"cairo\"\n",
    "\n",
    "    cr.select_font_face(\"Sans\",\n",
    "                        cairo.FONT_SLANT_NORMAL,\n",
    "                        cairo.FONT_WEIGHT_NORMAL)\n",
    "\n",
    "    cr.set_font_size(0.2)\n",
    "    x_bearing, y_bearing, width, height, x_advance, y_advance = \\\n",
    "        cr.text_extents(utf8)\n",
    "    x = 0.5 - (width / 2 + x_bearing)\n",
    "    y = 0.5 - (height / 2 + y_bearing)\n",
    "\n",
    "    cr.move_to(x, y)\n",
    "    cr.show_text(utf8)\n",
    "\n",
    "    # draw helping lines\n",
    "    cr.set_source_rgba(1, 0.2, 0.2, 0.6)\n",
    "    cr.arc(x, y, 0.05, 0, 2 * pi)\n",
    "    cr.fill()\n",
    "    cr.move_to(0.5, 0)\n",
    "    cr.rel_line_to(0, 1)\n",
    "    cr.move_to(0, 0.5)\n",
    "    cr.rel_line_to(1, 0)\n",
    "    cr.stroke()"
   ]
  },
  {
   "cell_type": "code",
   "execution_count": 21,
   "metadata": {},
   "outputs": [
    {
     "data": {
      "image/png": "[encoded data removed]",
      "text/plain": [
       "<IPython.core.display.Image object>"
      ]
     },
     "metadata": {
      "image/png": {
       "width": 200
      }
     },
     "output_type": "display_data"
    }
   ],
   "source": [
    "@disp\n",
    "def draw(cr, width, height):\n",
    "    cr.scale(width, height)\n",
    "    cr.set_line_width(0.04)\n",
    "\n",
    "    utf8 = \"cairo\"\n",
    "\n",
    "    cr.select_font_face(\"Sans\",\n",
    "                        cairo.FONT_SLANT_NORMAL,\n",
    "                        cairo.FONT_WEIGHT_NORMAL)\n",
    "\n",
    "    cr.set_font_size(0.4)\n",
    "    x_bearing, y_bearing, width, height, x_advance, y_advance = \\\n",
    "        cr.text_extents(utf8)\n",
    "\n",
    "    x = 0.1\n",
    "    y = 0.6\n",
    "\n",
    "    cr.move_to(x, y)\n",
    "    cr.show_text(utf8)\n",
    "\n",
    "    # draw helping lines\n",
    "    cr.set_source_rgba(1, 0.2, 0.2, 0.6)\n",
    "    cr.arc(x, y, 0.05, 0, 2 * pi)\n",
    "    cr.fill()\n",
    "    cr.move_to(x, y)\n",
    "    cr.rel_line_to(0, -height)\n",
    "    cr.rel_line_to(width, 0)\n",
    "    cr.rel_line_to(x_bearing, -y_bearing)\n",
    "    cr.stroke()"
   ]
  },
  {
   "cell_type": "code",
   "execution_count": 22,
   "metadata": {},
   "outputs": [
    {
     "data": {
      "image/png": "[encoded data removed]",
      "text/plain": [
       "<IPython.core.display.Image object>"
      ]
     },
     "metadata": {
      "image/png": {
       "width": 200
      }
     },
     "output_type": "display_data"
    }
   ],
   "source": [
    "import math\n",
    "all_width = all_height = text_width = 0\n",
    "\n",
    "def warpPath(ctx, function):\n",
    "    first = True\n",
    "\n",
    "    for type, points in ctx.copy_path():\n",
    "        if type == cairo.PATH_MOVE_TO:\n",
    "            if first:\n",
    "                ctx.new_path()\n",
    "                first = False\n",
    "            x, y = function(*points)\n",
    "            ctx.move_to(x, y)\n",
    "\n",
    "        elif type == cairo.PATH_LINE_TO:\n",
    "            x, y = function(*points)\n",
    "            ctx.line_to(x, y)\n",
    "\n",
    "        elif type == cairo.PATH_CURVE_TO:\n",
    "            x1, y1, x2, y2, x3, y3 = points\n",
    "            x1, y1 = function(x1, y1)\n",
    "            x2, y2 = function(x2, y2)\n",
    "            x3, y3 = function(x3, y3)\n",
    "            ctx.curve_to(x1, y1, x2, y2, x3, y3)\n",
    "\n",
    "        elif type == cairo.PATH_CLOSE_PATH:\n",
    "            ctx.close_path()\n",
    "\n",
    "\n",
    "def spiral(x, y):\n",
    "    theta0 = -math.pi * 3 / 4\n",
    "    theta = x / all_width * math.pi * 2 + theta0\n",
    "    radius = y + 200 - x / 7\n",
    "    xnew = radius * math.cos(theta)\n",
    "    ynew = radius * math.sin(-theta)\n",
    "    return xnew + all_width / 2, ynew + all_height / 2\n",
    "\n",
    "\n",
    "def curl(x, y):\n",
    "    xn = x - text_width / 2\n",
    "    xnew = xn\n",
    "    ynew = y + xn ** 3 / ((text_width / 2) ** 3) * 70\n",
    "    return xnew + all_width / 2, ynew + all_height * 2 / 5\n",
    "\n",
    "\n",
    "@disp\n",
    "def draw(ctx, width, height):\n",
    "    global text_width, all_width, all_height\n",
    "\n",
    "    all_width, all_height = width, height\n",
    "\n",
    "    solidpattern = ctx.get_source()\n",
    "\n",
    "    # background\n",
    "    pat = cairo.LinearGradient(0.0, 0.0, 0, height)\n",
    "    pat.add_color_stop_rgba(1, 0, 0, 0, 1)\n",
    "    pat.add_color_stop_rgba(0, 1, 1, 1, 1)\n",
    "\n",
    "    ctx.rectangle(0, 0, width, height)\n",
    "    ctx.set_source(pat)\n",
    "    ctx.fill()\n",
    "\n",
    "    # foreground\n",
    "    ctx.set_source(solidpattern)\n",
    "    ctx.set_source_rgb(1, 1, 1)\n",
    "\n",
    "    ctx.select_font_face(\"Sans\")\n",
    "    ctx.set_font_size(80)\n",
    "\n",
    "    # spiral text\n",
    "    ctx.new_path()\n",
    "    ctx.move_to(0, 0)\n",
    "    ctx.text_path(\"pycairo - \" + \"spam \" * 5)\n",
    "    warpPath(ctx, spiral)\n",
    "    ctx.fill()\n",
    "\n",
    "    # curly text\n",
    "    ctx.new_path()\n",
    "    ctx.move_to(0, 0)\n",
    "    ctx.set_source_rgb(0.3, 0.3, 0.3)\n",
    "    text = \"I am curly :)\"\n",
    "    ctx.text_path(text)\n",
    "    text_width = ctx.text_extents(text)[2]\n",
    "    warpPath(ctx, curl)\n",
    "    ctx.fill()"
   ]
  },
  {
   "cell_type": "code",
   "execution_count": 23,
   "metadata": {},
   "outputs": [
    {
     "data": {
      "image/png": "[encoded data removed]",
      "text/plain": [
       "<IPython.core.display.Image object>"
      ]
     },
     "metadata": {
      "image/png": {
       "width": 200
      }
     },
     "output_type": "display_data"
    }
   ],
   "source": [
    "from contextlib import contextmanager\n",
    "\n",
    "@disp\n",
    "def draw(ctx, width, height):\n",
    "    cr = ctx\n",
    "    @contextmanager\n",
    "    def saved(cr):\n",
    "        cr.save()\n",
    "        try:\n",
    "            yield cr\n",
    "        finally:\n",
    "            cr.restore()\n",
    "\n",
    "    def Tree(angle):\n",
    "        cr.move_to(0, 0)\n",
    "        cr.translate(0, -65)\n",
    "        cr.line_to(0, 0)\n",
    "        cr.stroke()\n",
    "        cr.scale(0.72, 0.72)\n",
    "        if angle > 0.12:\n",
    "            for a in [-angle, angle]:\n",
    "                with saved(cr):\n",
    "                    cr.rotate(a)\n",
    "                    Tree(angle * 0.75)\n",
    "\n",
    "\n",
    "    cr.translate(140, 203)\n",
    "    cr.set_line_width(5)\n",
    "    Tree(0.32)"
   ]
  }
 ],
 "metadata": {
  "kernelspec": {
   "display_name": "Python 3",
   "language": "python",
   "name": "python3"
  },
  "language_info": {
   "codemirror_mode": {
    "name": "ipython",
    "version": 3
   },
   "file_extension": ".py",
   "mimetype": "text/x-python",
   "name": "python",
   "nbconvert_exporter": "python",
   "pygments_lexer": "ipython3",
   "version": "3.8.6"
  }
 },
 "nbformat": 4,
 "nbformat_minor": 2
}
